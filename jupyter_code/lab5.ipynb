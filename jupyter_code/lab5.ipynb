{
 "cells": [
  {
   "cell_type": "code",
   "execution_count": 83,
   "metadata": {},
   "outputs": [],
   "source": [
    "airports_path = \"/data/students/bigdata_internet/lab5/airports.csv\"\n",
    "airlines_path = \"/data/students/bigdata_internet/lab5/airlines.csv\"\n",
    "routes_path = \"/data/students/bigdata_internet/lab5/routes.csv\""
   ]
  },
  {
   "cell_type": "code",
   "execution_count": 84,
   "metadata": {},
   "outputs": [],
   "source": [
    "airports_df = spark.read.load(airports_path, format = \"csv\", header = True, inferSchema = True)\n",
    "airlines_df = spark.read.load(airlines_path, format = \"csv\", header = True, inferSchema = True)\n",
    "routes_df = spark.read.load(routes_path, format = \"csv\", header = True, inferSchema = True)\n"
   ]
  },
  {
   "cell_type": "raw",
   "metadata": {},
   "source": [
    "2 \n",
    "Task 1: Which are the countries in the world with more than 100 airports? Reports these countries and their\n",
    "number of airports."
   ]
  },
  {
   "cell_type": "code",
   "execution_count": 85,
   "metadata": {},
   "outputs": [],
   "source": [
    "def countAirports(country):\n",
    "    isinstanceairport = 1\n",
    "    return isinstanceairport"
   ]
  },
  {
   "cell_type": "code",
   "execution_count": 86,
   "metadata": {},
   "outputs": [
    {
     "data": {
      "text/plain": [
       "<function __main__.<lambda>(country)>"
      ]
     },
     "execution_count": 86,
     "metadata": {},
     "output_type": "execute_result"
    }
   ],
   "source": [
    "spark.udf.register(\"isAirportInstance\", lambda country: countAirports(country),\"integer\")"
   ]
  },
  {
   "cell_type": "code",
   "execution_count": 87,
   "metadata": {},
   "outputs": [],
   "source": [
    "country_total_airports_df = airports_df.selectExpr(\"country\",\"isAirportInstance(country)\").withColumnRenamed(\"isAirportInstance(country)\",\"instance\")"
   ]
  },
  {
   "cell_type": "code",
   "execution_count": 88,
   "metadata": {},
   "outputs": [],
   "source": [
    "country_total_df = country_total_airports_df.groupBy(\"country\").sum(\"instance\").withColumnRenamed(\"sum(instance)\",\"total_airports\")"
   ]
  },
  {
   "cell_type": "code",
   "execution_count": 89,
   "metadata": {},
   "outputs": [],
   "source": [
    "country_more_than_100 = country_total_df.filter(\"total_airports>=100\")"
   ]
  },
  {
   "cell_type": "code",
   "execution_count": 90,
   "metadata": {},
   "outputs": [
    {
     "name": "stdout",
     "output_type": "stream",
     "text": [
      "+--------------+--------------+\n",
      "|       country|total_airports|\n",
      "+--------------+--------------+\n",
      "|        Russia|           264|\n",
      "|       Germany|           249|\n",
      "|        France|           217|\n",
      "|         India|           148|\n",
      "|         China|           241|\n",
      "| United States|          1512|\n",
      "|     Indonesia|           145|\n",
      "|        Canada|           430|\n",
      "|        Brazil|           264|\n",
      "|         Japan|           123|\n",
      "|     Australia|           334|\n",
      "|United Kingdom|           167|\n",
      "+--------------+--------------+\n",
      "\n"
     ]
    }
   ],
   "source": [
    "country_more_than_100.show()"
   ]
  },
  {
   "cell_type": "raw",
   "metadata": {},
   "source": [
    "2\n",
    "Task 2: Which are the Top-10 airlines by total number of flights? \n",
    "For each airline in the Top-10, provide airline name, airline icao code and number of flights."
   ]
  },
  {
   "cell_type": "code",
   "execution_count": 91,
   "metadata": {},
   "outputs": [],
   "source": [
    "def countFlights(airline):\n",
    "    isFlight = 1\n",
    "    return isFlight"
   ]
  },
  {
   "cell_type": "code",
   "execution_count": 92,
   "metadata": {},
   "outputs": [
    {
     "data": {
      "text/plain": [
       "<function __main__.<lambda>(airline_id)>"
      ]
     },
     "execution_count": 92,
     "metadata": {},
     "output_type": "execute_result"
    }
   ],
   "source": [
    "spark.udf.register(\"isFlight\",lambda airline_id: countFlights(airline_id),\"integer\")"
   ]
  },
  {
   "cell_type": "code",
   "execution_count": 93,
   "metadata": {},
   "outputs": [],
   "source": [
    "airline_flights_df = routes_df.selectExpr(\"airline_id\",\"isFLight(airline_id)\").withColumnRenamed(\"isFLight(airline_id)\",\"flight\")"
   ]
  },
  {
   "cell_type": "code",
   "execution_count": 94,
   "metadata": {},
   "outputs": [],
   "source": [
    "airline_total_flights_df = airline_flights_df.groupBy(\"airline_id\").sum(\"flight\").withColumnRenamed(\"sum(flight)\",\"total_flights\")"
   ]
  },
  {
   "cell_type": "code",
   "execution_count": 95,
   "metadata": {},
   "outputs": [],
   "source": [
    "airline_names = airlines_df.select(\"airline_id\",\"name\",\"icao\")"
   ]
  },
  {
   "cell_type": "code",
   "execution_count": 96,
   "metadata": {},
   "outputs": [],
   "source": [
    "airline_joined = airline_total_flights_df.join(airline_names,airline_total_flights_df.airline_id == airline_names.airline_id, \"inner\").select(\"name\",\"icao\",\"total_flights\")"
   ]
  },
  {
   "cell_type": "code",
   "execution_count": 97,
   "metadata": {},
   "outputs": [],
   "source": [
    "airlines_sorted = airline_joined.sort(\"total_flights\",ascending = False)"
   ]
  },
  {
   "cell_type": "code",
   "execution_count": 98,
   "metadata": {},
   "outputs": [
    {
     "name": "stdout",
     "output_type": "stream",
     "text": [
      "+--------------------+----+-------------+\n",
      "|                name|icao|total_flights|\n",
      "+--------------------+----+-------------+\n",
      "|             Ryanair| RYR|         2484|\n",
      "|   American Airlines| AAL|         2354|\n",
      "|     United Airlines| UAL|         2180|\n",
      "|     Delta Air Lines| DAL|         1981|\n",
      "|          US Airways| USA|         1960|\n",
      "|China Southern Ai...| CSN|         1454|\n",
      "|China Eastern Air...| CES|         1263|\n",
      "|           Air China| CCA|         1260|\n",
      "|  Southwest Airlines| SWA|         1146|\n",
      "|             easyJet| EZY|         1130|\n",
      "+--------------------+----+-------------+\n",
      "only showing top 10 rows\n",
      "\n"
     ]
    }
   ],
   "source": [
    "airlines_sorted.show(10)"
   ]
  },
  {
   "cell_type": "raw",
   "metadata": {},
   "source": [
    "2\n",
    "Task 3: Which are the Top-10 airports by number of departing flights? \n",
    "For each airport in the Top-10, provide its name, its iata code and the number of departing flights."
   ]
  },
  {
   "cell_type": "code",
   "execution_count": 99,
   "metadata": {},
   "outputs": [],
   "source": [
    "airline_source_df = routes_df.selectExpr(\"airport_source\",\"isFLight(airline_id)\").withColumnRenamed(\"isFLight(airline_id)\",\"flight_n\")"
   ]
  },
  {
   "cell_type": "code",
   "execution_count": 100,
   "metadata": {},
   "outputs": [],
   "source": [
    "airport_departures = airline_source_df.groupBy(\"airport_source\").sum(\"flight_n\").withColumnRenamed(\"sum(flight_n)\",\"total_departures\")"
   ]
  },
  {
   "cell_type": "code",
   "execution_count": 101,
   "metadata": {},
   "outputs": [],
   "source": [
    "ordered_airport_departures = airport_departures.sort(\"total_departures\",ascending = False)"
   ]
  },
  {
   "cell_type": "code",
   "execution_count": 102,
   "metadata": {},
   "outputs": [],
   "source": [
    "airportName_iata = airports_df.select(\"name\",\"iata\")"
   ]
  },
  {
   "cell_type": "code",
   "execution_count": 103,
   "metadata": {},
   "outputs": [],
   "source": [
    "airport_name_iata_departingflights = ordered_airport_departures\\\n",
    ".join(airportName_iata,ordered_airport_departures\\\n",
    "      .airport_source == airportName_iata.iata,\"inner\").select(\"name\",\"iata\",\"total_departures\")"
   ]
  },
  {
   "cell_type": "code",
   "execution_count": 104,
   "metadata": {},
   "outputs": [
    {
     "name": "stdout",
     "output_type": "stream",
     "text": [
      "+--------------------+----+----------------+\n",
      "|                name|iata|total_departures|\n",
      "+--------------------+----+----------------+\n",
      "|Hartsfield Jackso...| ATL|             915|\n",
      "|Chicago O'Hare In...| ORD|             558|\n",
      "|Beijing Capital I...| PEK|             535|\n",
      "|London Heathrow A...| LHR|             527|\n",
      "|Charles de Gaulle...| CDG|             524|\n",
      "|Frankfurt am Main...| FRA|             497|\n",
      "|Los Angeles Inter...| LAX|             492|\n",
      "|Dallas Fort Worth...| DFW|             469|\n",
      "|John F Kennedy In...| JFK|             456|\n",
      "|Amsterdam Airport...| AMS|             453|\n",
      "+--------------------+----+----------------+\n",
      "only showing top 10 rows\n",
      "\n"
     ]
    }
   ],
   "source": [
    "airport_name_iata_departingflights.show(10)"
   ]
  },
  {
   "cell_type": "raw",
   "metadata": {},
   "source": [
    "Removing erroneous Lines"
   ]
  },
  {
   "cell_type": "code",
   "execution_count": 105,
   "metadata": {},
   "outputs": [],
   "source": [
    "def finderroneouslines(a_source_id,a_dest_id,a_source,a_dest):\n",
    "    ERRORCODE = str('\\\\\\\\N')\n",
    "    if a_source_id == ERRORCODE or a_dest_id == ERRORCODE or a_source == ERRORCODE or a_dest == ERRORCODE:\n",
    "        return False\n",
    "    else:\n",
    "        return True"
   ]
  },
  {
   "cell_type": "code",
   "execution_count": 106,
   "metadata": {},
   "outputs": [
    {
     "data": {
      "text/plain": [
       "<function __main__.<lambda>(airport_source_id, airport_destination_id, airport_source, airport_destination)>"
      ]
     },
     "execution_count": 106,
     "metadata": {},
     "output_type": "execute_result"
    }
   ],
   "source": [
    "spark.udf.register(\"IsErroneous\",lambda airport_source_id,airport_destination_id,airport_source,airport_destination: finderroneouslines(airport_source_id,airport_destination_id,airport_source,airport_destination),\"boolean\")"
   ]
  },
  {
   "cell_type": "code",
   "execution_count": 107,
   "metadata": {},
   "outputs": [],
   "source": [
    "#erroneous_routes = routes_df.filter(lambda airport_source,airport_destination: IsErroneous(airport_source,airport_destination) )\n",
    "non_erroneous_routes = routes_df.filter( \"IsErroneous(airport_source_id,airport_destination_id,airport_source,airport_destination)\" )"
   ]
  },
  {
   "cell_type": "code",
   "execution_count": 108,
   "metadata": {},
   "outputs": [],
   "source": [
    "airports_for_nodes = airports_df.withColumn(\"id\", airports_df.id.cast(\"string\"))"
   ]
  },
  {
   "cell_type": "code",
   "execution_count": 109,
   "metadata": {},
   "outputs": [],
   "source": [
    "routes_for_edges= routes_df.withColumn(\"airport_source_id\", routes_df.airport_source_id.cast(\"string\"))\\\n",
    ".withColumn(\"airport_destination_id\", routes_df.airport_destination_id.cast(\"string\")).withColumnRenamed(\"airport_source_id\",\"src\")\\\n",
    ".withColumnRenamed(\"airport_destination_id\",\"dst\")"
   ]
  },
  {
   "cell_type": "code",
   "execution_count": 110,
   "metadata": {},
   "outputs": [],
   "source": [
    "nodes_df = airports_for_nodes\n",
    "#nodes_df.show(1)\n",
    "#nodes_df.printSchema()\n",
    "edges_df = routes_for_edges\n",
    "#edges_df.show(1)\n",
    "#edges_df.printSchema()\n",
    "from graphframes import GraphFrame\n",
    "g = GraphFrame(nodes_df, edges_df)"
   ]
  },
  {
   "cell_type": "raw",
   "metadata": {},
   "source": [
    "4) Analyze and process the graph\n",
    "Task 1: Show top-10 airports by in and out degree. Please provide the name of the airport as well, its ID and\n",
    "its degree.\n",
    "In degree is the number of incoming edges (oriented graph)\n",
    "out degree is the number of outgoing edges "
   ]
  },
  {
   "cell_type": "code",
   "execution_count": 111,
   "metadata": {},
   "outputs": [],
   "source": [
    "airports_id_name = airports_df.select(\"id\",\"name\").withColumn(\"id\", airports_df.id.cast(\"string\")).withColumnRenamed(\"id\",\"airport_id\")"
   ]
  },
  {
   "cell_type": "code",
   "execution_count": 112,
   "metadata": {},
   "outputs": [],
   "source": [
    "gInDeg = g.inDegrees\n",
    "gOutDeg = g.outDegrees"
   ]
  },
  {
   "cell_type": "code",
   "execution_count": 113,
   "metadata": {},
   "outputs": [
    {
     "name": "stdout",
     "output_type": "stream",
     "text": [
      "+----------+--------------------+--------+\n",
      "|airport_id|                name|inDegree|\n",
      "+----------+--------------------+--------+\n",
      "|      3682|Hartsfield Jackso...|     911|\n",
      "|      3830|Chicago O'Hare In...|     550|\n",
      "+----------+--------------------+--------+\n",
      "only showing top 2 rows\n",
      "\n",
      "+----------+--------------------+---------+\n",
      "|airport_id|                name|outDegree|\n",
      "+----------+--------------------+---------+\n",
      "|      3682|Hartsfield Jackso...|      915|\n",
      "|      3830|Chicago O'Hare In...|      558|\n",
      "+----------+--------------------+---------+\n",
      "only showing top 2 rows\n",
      "\n"
     ]
    }
   ],
   "source": [
    "gInDegSorted=gInDeg.sort(\"inDegree\", ascending=False)\n",
    "gInDegSorted_And_Name = gInDegSorted.join(airports_id_name,gInDegSorted.id == airports_id_name.airport_id,\"inner\").select(\"airport_id\",\"name\",\"inDegree\")\n",
    "gInDegSorted_And_Name.show(2)\n",
    "\n",
    "gOutDegSorted=gOutDeg.sort(\"outDegree\", ascending=False)\n",
    "gOutDegSorted_And_Name = gOutDegSorted.join(airports_id_name,gOutDegSorted.id == airports_id_name.airport_id,\"inner\").select(\"airport_id\",\"name\",\"outDegree\")\n",
    "gOutDegSorted_And_Name.show(2)"
   ]
  },
  {
   "cell_type": "raw",
   "metadata": {},
   "source": [
    "4) Analyze and process the graph\n",
    "\n",
    "Task 2: How many airports are reachable from Turin taking exactly 1 flight? What about taking 2 flights?\n",
    "And 3 flights? Hint: Use the motif finding functionality. Turin has id = 1526"
   ]
  },
  {
   "cell_type": "code",
   "execution_count": 114,
   "metadata": {},
   "outputs": [
    {
     "name": "stdout",
     "output_type": "stream",
     "text": [
      "+--------------------+--------------------+\n",
      "|                   a|                   b|\n",
      "+--------------------+--------------------+\n",
      "|[1526, Turin Airp...|[1606, Malta Inte...|\n",
      "|[1526, Turin Airp...|[1508, Lamezia Te...|\n",
      "|[1526, Turin Airp...|[1655, Iaşi Airpo...|\n",
      "|[1526, Turin Airp...|[1515, Vincenzo F...|\n",
      "|[1526, Turin Airp...|[1561, Naples Int...|\n",
      "|[1526, Turin Airp...|[340, Frankfurt a...|\n",
      "|[1526, Turin Airp...|[1218, Barcelona ...|\n",
      "|[1526, Turin Airp...|[1520, Olbia Cost...|\n",
      "|[1526, Turin Airp...|[1506, Brindisi –...|\n",
      "|[1526, Turin Airp...|[502, London Gatw...|\n",
      "|[1526, Turin Airp...|[548, London Stan...|\n",
      "|[1526, Turin Airp...|[1555, Leonardo d...|\n",
      "|[1526, Turin Airp...|[345, Düsseldorf ...|\n",
      "|[1526, Turin Airp...|[1514, Reggio Cal...|\n",
      "|[1526, Turin Airp...|[580, Amsterdam A...|\n",
      "|[1526, Turin Airp...|[1509, Catania-Fo...|\n",
      "|[1526, Turin Airp...|[1701, Atatürk In...|\n",
      "|[1526, Turin Airp...|[1074, Mohammed V...|\n",
      "|[1526, Turin Airp...|[1512, Falcone–Bo...|\n",
      "|[1526, Turin Airp...|[1382, Charles de...|\n",
      "|[1526, Turin Airp...|[1519, Cagliari E...|\n",
      "|[1526, Turin Airp...|[1517, Alghero-Fe...|\n",
      "|[1526, Turin Airp...|[1501, Bari Karol...|\n",
      "|[1526, Turin Airp...|[302, Brussels Ai...|\n",
      "|[1526, Turin Airp...|[1229, Adolfo Suá...|\n",
      "|[1526, Turin Airp...|[304, Brussels So...|\n",
      "|[1526, Turin Airp...|[346, Munich Airp...|\n",
      "|[1526, Turin Airp...|[1678, Zürich Air...|\n",
      "|[1526, Turin Airp...|[1190, Tirana Int...|\n",
      "+--------------------+--------------------+\n",
      "\n"
     ]
    },
    {
     "data": {
      "text/plain": [
       "29"
      ]
     },
     "execution_count": 114,
     "metadata": {},
     "output_type": "execute_result"
    }
   ],
   "source": [
    "motifs = g.find(\"(a)-[e]->(b)\") \n",
    "turin_motif = motifs.filter(\"a.id = 1526\")\n",
    "turin_motif_distinct = turin_motif.select(\"a\",\"b\").distinct()\n",
    "turin_motif_distinct.show(200)\n",
    "turin_motif_distinct.count()"
   ]
  },
  {
   "cell_type": "code",
   "execution_count": 115,
   "metadata": {},
   "outputs": [
    {
     "name": "stdout",
     "output_type": "stream",
     "text": [
      "+--------------------+--------------------+--------------------+--------------------+--------------------+\n",
      "|                   a|                   e|                   b|                  e2|                   c|\n",
      "+--------------------+--------------------+--------------------+--------------------+--------------------+\n",
      "|[1526, Turin Airp...|[4U, 2548, TRN, 1...|[345, Düsseldorf ...|[YM, 3539, DUS, 3...|[1741, Podgorica ...|\n",
      "+--------------------+--------------------+--------------------+--------------------+--------------------+\n",
      "only showing top 1 row\n",
      "\n",
      "+--------------------+--------------------+\n",
      "|                   a|                   c|\n",
      "+--------------------+--------------------+\n",
      "|[1526, Turin Airp...|[1606, Malta Inte...|\n",
      "|[1526, Turin Airp...|[286, Monastir Ha...|\n",
      "|[1526, Turin Airp...|[2121, Esfahan Sh...|\n",
      "|[1526, Turin Airp...|[3751, Denver Int...|\n",
      "|[1526, Turin Airp...|[1206, Split Airp...|\n",
      "+--------------------+--------------------+\n",
      "only showing top 5 rows\n",
      "\n"
     ]
    },
    {
     "data": {
      "text/plain": [
       "590"
      ]
     },
     "execution_count": 115,
     "metadata": {},
     "output_type": "execute_result"
    }
   ],
   "source": [
    "motifsTwoFlights = g.find(\"(a)-[e]->(b); (b)-[e2]->(c)\") \n",
    "turin_motifTwoFlights = motifsTwoFlights.filter(\"a.id = 1526\")\n",
    "turin_motifTwoFlights.show(1)\n",
    "\n",
    "\n",
    "\n",
    "turin_motifTwoFlights_distinct = turin_motifTwoFlights.select(\"a\",\"c\").distinct()\n",
    "turin_motifTwoFlights_distinct.show(5)\n",
    "turin_motifTwoFlights_distinct.count()\n"
   ]
  },
  {
   "cell_type": "code",
   "execution_count": 116,
   "metadata": {},
   "outputs": [
    {
     "name": "stdout",
     "output_type": "stream",
     "text": [
      "+--------------------+--------------------+--------------------+--------------------+--------------------+--------------------+--------------------+\n",
      "|                   a|                   e|                   b|                  e2|                   c|                  e3|                   d|\n",
      "+--------------------+--------------------+--------------------+--------------------+--------------------+--------------------+--------------------+\n",
      "|[1526, Turin Airp...|[4U, 2548, TRN, 1...|[345, Düsseldorf ...|[YM, 3539, DUS, 3...|[1741, Podgorica ...|[YM, 3539, TGD, 1...|[1678, Zürich Air...|\n",
      "+--------------------+--------------------+--------------------+--------------------+--------------------+--------------------+--------------------+\n",
      "only showing top 1 row\n",
      "\n",
      "+--------------------+--------------------+\n",
      "|                   a|                   d|\n",
      "+--------------------+--------------------+\n",
      "|[1526, Turin Airp...|[1606, Malta Inte...|\n",
      "|[1526, Turin Airp...|[286, Monastir Ha...|\n",
      "|[1526, Turin Airp...|[2121, Esfahan Sh...|\n",
      "|[1526, Turin Airp...|[2955, Abakan Air...|\n",
      "|[1526, Turin Airp...|[1374, Châlons-Va...|\n",
      "+--------------------+--------------------+\n",
      "only showing top 5 rows\n",
      "\n"
     ]
    },
    {
     "data": {
      "text/plain": [
       "2210"
      ]
     },
     "execution_count": 116,
     "metadata": {},
     "output_type": "execute_result"
    }
   ],
   "source": [
    "motifsThreeFlights = g.find(\"(a)-[e]->(b); (b)-[e2]->(c); (c)-[e3]->(d)\") \n",
    "turin_motifThreeFlights = motifsThreeFlights.filter(\"a.id = 1526\")\n",
    "turin_motifThreeFlights.show(1)\n",
    "\n",
    "\n",
    "turin_motifThreeFlights_distinct = turin_motifThreeFlights.select(\"a\",\"d\").distinct()\n",
    "turin_motifThreeFlights_distinct.show(5)\n",
    "turin_motifThreeFlights_distinct.count()\n",
    "\n",
    "\n",
    "\n"
   ]
  },
  {
   "cell_type": "raw",
   "metadata": {},
   "source": [
    "4. Analyze and process the graph\n",
    "\n",
    "Task 3: Compute the shortest path length from each airport in the dataset to Turin airport (id = 1526).\n",
    "Which are the 10 airports that are farther from Turin, in terms of number of hops? \n",
    "For each of these airports, report its name, its city and country, and the shortest path length to Turin (i.e., number of hops)."
   ]
  },
  {
   "cell_type": "code",
   "execution_count": 117,
   "metadata": {},
   "outputs": [],
   "source": [
    "#list of landmark nodes\n",
    "landmarks=[\"1526\"]\n",
    "results = g.shortestPaths(landmarks=landmarks)"
   ]
  },
  {
   "cell_type": "code",
   "execution_count": 118,
   "metadata": {},
   "outputs": [
    {
     "name": "stdout",
     "output_type": "stream",
     "text": [
      "+----+------------------+----------+---------+-----------+\n",
      "|  id|              name|      city|  country|  distances|\n",
      "+----+------------------+----------+---------+-----------+\n",
      "|6240|Birdsville Airport|Birdsville|Australia|[1526 -> 7]|\n",
      "+----+------------------+----------+---------+-----------+\n",
      "only showing top 1 row\n",
      "\n"
     ]
    },
    {
     "data": {
      "text/plain": [
       "7698"
      ]
     },
     "execution_count": 118,
     "metadata": {},
     "output_type": "execute_result"
    }
   ],
   "source": [
    "res = results.select(\"id\",\"name\",\"city\",\"country\",\"distances\")\n",
    "res.show(1)\n",
    "res.count()"
   ]
  },
  {
   "cell_type": "code",
   "execution_count": 119,
   "metadata": {},
   "outputs": [],
   "source": [
    "def numberOfHops(dist_dict): \n",
    "    if len(dist_dict)>0:\n",
    "        v = dist_dict[\"1526\"]\n",
    "    else:\n",
    "        v = 0\n",
    "    return (int(v))"
   ]
  },
  {
   "cell_type": "code",
   "execution_count": 120,
   "metadata": {},
   "outputs": [
    {
     "data": {
      "text/plain": [
       "<function __main__.<lambda>(distances)>"
      ]
     },
     "execution_count": 120,
     "metadata": {},
     "output_type": "execute_result"
    }
   ],
   "source": [
    "spark.udf.register(\"NHops\",lambda distances: numberOfHops(distances),\"integer\" )"
   ]
  },
  {
   "cell_type": "code",
   "execution_count": 121,
   "metadata": {},
   "outputs": [],
   "source": [
    "num_hops = res.selectExpr(\"id\",\"name\",\"city\",\"country\",\"distances\",\"NHops(distances)\").withColumnRenamed(\"NHops(distances)\",\"n_hops\")"
   ]
  },
  {
   "cell_type": "code",
   "execution_count": 122,
   "metadata": {},
   "outputs": [
    {
     "name": "stdout",
     "output_type": "stream",
     "text": [
      "+----+--------------------+------------+-------------+-----------+------+\n",
      "|  id|                name|        city|      country|  distances|n_hops|\n",
      "+----+--------------------+------------+-------------+-----------+------+\n",
      "|5522|   Peawanuck Airport|   Peawanuck|       Canada|[1526 -> 8]|     8|\n",
      "|5482|Attawapiskat Airport|Attawapiskat|       Canada|[1526 -> 7]|     7|\n",
      "|  10|      Thule Air Base|       Thule|    Greenland|[1526 -> 7]|     7|\n",
      "|8199|   Nightmute Airport|   Nightmute|United States|[1526 -> 7]|     7|\n",
      "|6321|    Portland Airport|    Portland|    Australia|[1526 -> 7]|     7|\n",
      "|6329|Thargomindah Airport|Thargomindah|    Australia|[1526 -> 7]|     7|\n",
      "|6240|  Birdsville Airport|  Birdsville|    Australia|[1526 -> 7]|     7|\n",
      "|5535|     Salluit Airport|     Salluit|       Canada|[1526 -> 7]|     7|\n",
      "|6333|    Windorah Airport|    Windorah|    Australia|[1526 -> 6]|     6|\n",
      "|5893|   Mota Lava Airport|       Ablow|      Vanuatu|[1526 -> 6]|     6|\n",
      "+----+--------------------+------------+-------------+-----------+------+\n",
      "only showing top 10 rows\n",
      "\n"
     ]
    }
   ],
   "source": [
    "num_hops.sort(\"n_hops\",ascending = False).show(10)"
   ]
  },
  {
   "cell_type": "raw",
   "metadata": {},
   "source": [
    "4. Analyze and process the graph\n",
    "Task 4: Given Turin airport (id==1526) and Belo Horizonte airport (id = 2537), compute:\n",
    "from how many airports in the world you can reach Turin using less hops than to reach Belo Horizonte\n",
    "from how many airports in the world you can reach Belo Horizonte using less hops than to reach Turin\n",
    "from how many airports in the world you can reach with the same number of hops Turin and Belo Horizonte"
   ]
  },
  {
   "cell_type": "code",
   "execution_count": 123,
   "metadata": {},
   "outputs": [],
   "source": [
    "#list of landmark nodes\n",
    "landmarks=[\"1526\",\"2537\"]\n",
    "results_2 = g.shortestPaths(landmarks=landmarks)\n",
    "res_2 = results_2.select(\"id\",\"name\",\"city\",\"country\",\"distances\")\n",
    "#res_2.show(2)"
   ]
  },
  {
   "cell_type": "code",
   "execution_count": 124,
   "metadata": {},
   "outputs": [],
   "source": [
    "def getdictofdistances(distances_map):\n",
    "    if len(distances_map)>0:\n",
    "        v = distances_map[\"2537\"]\n",
    "    else:\n",
    "        v = 0\n",
    "    return (int(v))"
   ]
  },
  {
   "cell_type": "code",
   "execution_count": 125,
   "metadata": {},
   "outputs": [
    {
     "data": {
      "text/plain": [
       "<function __main__.<lambda>(distances)>"
      ]
     },
     "execution_count": 125,
     "metadata": {},
     "output_type": "execute_result"
    }
   ],
   "source": [
    "spark.udf.register(\"getHops\", lambda distances: getdictofdistances(distances),\"integer\")"
   ]
  },
  {
   "cell_type": "code",
   "execution_count": 126,
   "metadata": {},
   "outputs": [],
   "source": [
    "turin_belo_n_hops = res_2.selectExpr(\"id\",\"name\",\"city\",\"country\",\"distances\",\"getHops(distances)\",\"NHops(distances)\")\\\n",
    ".withColumnRenamed(\"getHops(distances)\",\"n_hops_belo\").withColumnRenamed(\"NHops(distances)\",\"n_hops_turin\").filter(\"n_hops_belo!=0 and  n_hops_turin!=0\")"
   ]
  },
  {
   "cell_type": "code",
   "execution_count": 127,
   "metadata": {},
   "outputs": [],
   "source": [
    "#turin_belo_n_hops.show(5)"
   ]
  },
  {
   "cell_type": "code",
   "execution_count": 128,
   "metadata": {},
   "outputs": [
    {
     "data": {
      "text/plain": [
       "1278"
      ]
     },
     "execution_count": 128,
     "metadata": {},
     "output_type": "execute_result"
    }
   ],
   "source": [
    "turin_less_belo = turin_belo_n_hops.filter(\"n_hops_turin<n_hops_belo\")\n",
    "#turin_less_belo.show(5)\n",
    "turin_less_belo.count()"
   ]
  },
  {
   "cell_type": "code",
   "execution_count": 129,
   "metadata": {},
   "outputs": [
    {
     "data": {
      "text/plain": [
       "281"
      ]
     },
     "execution_count": 129,
     "metadata": {},
     "output_type": "execute_result"
    }
   ],
   "source": [
    "belo_less_turin = turin_belo_n_hops.filter(\"n_hops_turin > n_hops_belo\")\n",
    "#belo_less_turin.show(5)\n",
    "belo_less_turin.count()"
   ]
  },
  {
   "cell_type": "code",
   "execution_count": 130,
   "metadata": {},
   "outputs": [
    {
     "data": {
      "text/plain": [
       "1608"
      ]
     },
     "execution_count": 130,
     "metadata": {},
     "output_type": "execute_result"
    }
   ],
   "source": [
    "belo_same_turin = turin_belo_n_hops.filter(\"n_hops_turin = n_hops_belo\")\n",
    "#belo_same_turin.show(5)\n",
    "belo_same_turin.count()"
   ]
  },
  {
   "cell_type": "raw",
   "metadata": {},
   "source": [
    "4. Analyze and process the graph\n",
    "Task 5: How many connected components of at least two airports are there in the graph? \n",
    "Report the number of connected components and their sizes. Hint: First, drop the isolated vertices."
   ]
  },
  {
   "cell_type": "code",
   "execution_count": null,
   "metadata": {},
   "outputs": [],
   "source": [
    "sc.setCheckpointDir(\"tmp_ckpts\")\n",
    "gg = g.dropIsolatedVertices()\n",
    "connected = gg.connectedComponents()"
   ]
  },
  {
   "cell_type": "code",
   "execution_count": null,
   "metadata": {},
   "outputs": [],
   "source": [
    "cc = connected.select(\"id\", \"component\").filter(\"component>2\").orderBy(\"component\")"
   ]
  },
  {
   "cell_type": "code",
   "execution_count": null,
   "metadata": {},
   "outputs": [],
   "source": [
    "nComp=connected.select(\"component\").distinct().count() \n",
    "print(\"Number of connected components: \", nComp)"
   ]
  },
  {
   "cell_type": "raw",
   "metadata": {},
   "source": [
    "4. Analyze and process the graph\n",
    "Task 6: Consider only the subgraph of the flights that are performed either by AirDolomiti (icao = DLA,iata = EN) or by Sky Airline (icao = SKU). \n",
    "Can you plot this subgraph? Report the name of the cities (of the airports) in the graph. Hint: use Graphvix"
   ]
  },
  {
   "cell_type": "code",
   "execution_count": null,
   "metadata": {},
   "outputs": [],
   "source": [
    "subg = g.filterEdges(\"airline_iata == 'EN' or airline_iata =='H2'\").dropIsolatedVertices()\n",
    "print(g.vertices.count(), g.edges.count())\n",
    "print(subg.vertices.count(), subg.edges.count())"
   ]
  },
  {
   "cell_type": "code",
   "execution_count": null,
   "metadata": {},
   "outputs": [],
   "source": [
    "from graphviz import Digraph\n",
    "def vizGraph(edge_list,node_list): \n",
    "    Gplot=Digraph() \n",
    "    edges=edge_list.collect() \n",
    "    nodes=node_list.collect()\n",
    "    for row in edges: \n",
    "        Gplot.edge(row['src'],row['dst'],label=row['airline_iata'])\n",
    "    for row in nodes: \n",
    "        Gplot.node(row['id'],label=row['city'])\n",
    "    return Gplot\n",
    "Gplot=vizGraph(subg.edges,subg.vertices) "
   ]
  },
  {
   "cell_type": "code",
   "execution_count": null,
   "metadata": {},
   "outputs": [],
   "source": [
    "Gplot"
   ]
  },
  {
   "cell_type": "code",
   "execution_count": null,
   "metadata": {},
   "outputs": [],
   "source": []
  },
  {
   "cell_type": "code",
   "execution_count": null,
   "metadata": {},
   "outputs": [],
   "source": []
  }
 ],
 "metadata": {
  "kernelspec": {
   "display_name": "GraphFrames (Yarn)",
   "language": "python",
   "name": "graphframe_yarn"
  },
  "language_info": {
   "codemirror_mode": {
    "name": "ipython",
    "version": 3
   },
   "file_extension": ".py",
   "mimetype": "text/x-python",
   "name": "python",
   "nbconvert_exporter": "python",
   "pygments_lexer": "ipython3",
   "version": "3.7.7"
  }
 },
 "nbformat": 4,
 "nbformat_minor": 4
}
