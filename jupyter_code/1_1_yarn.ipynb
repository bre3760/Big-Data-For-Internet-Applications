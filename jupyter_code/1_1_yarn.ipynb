{
 "cells": [
  {
   "cell_type": "code",
   "execution_count": 13,
   "metadata": {},
   "outputs": [],
   "source": [
    "# using the textFile method to create an RDD from a text file\n",
    "rdd = sc.textFile(\"/data/students/bigdata_internet/lab1/lab1_dataset.txt\")\n",
    "# Question: Where is the input file? On which file system?\n",
    "# The data is stored in the hdfs (as seen from hue)"
   ]
  },
  {
   "cell_type": "code",
   "execution_count": 14,
   "metadata": {},
   "outputs": [],
   "source": [
    "# the map transformation is used to create a new RDD by applying\n",
    "# a function f on each element of the input RDD\n",
    "# for each element of the input RDD there is a corresponding element \n",
    "# in the output RDD\n",
    "fields_rdd = rdd.map(lambda line: line.split(\",\"))"
   ]
  },
  {
   "cell_type": "code",
   "execution_count": 15,
   "metadata": {},
   "outputs": [],
   "source": [
    "# a second map transformation takes the RDD that was given as\n",
    "# output from the previous map transformation \n",
    "# we take the second element of the line from the input RDD\n",
    "value_rdd = fields_rdd.map(lambda l: int(l[1]))"
   ]
  },
  {
   "cell_type": "code",
   "execution_count": 16,
   "metadata": {},
   "outputs": [],
   "source": [
    "# reduce is an action so it will output a single python object\n",
    "# obtained by combining all the objects of the input RDD \n",
    "value_sum = value_rdd.reduce(lambda v1, v2: v1+v2)"
   ]
  },
  {
   "cell_type": "code",
   "execution_count": 17,
   "metadata": {},
   "outputs": [
    {
     "name": "stdout",
     "output_type": "stream",
     "text": [
      "The sum is: 46\n"
     ]
    }
   ],
   "source": [
    "print(\"The sum is:\", value_sum)"
   ]
  },
  {
   "cell_type": "code",
   "execution_count": 1,
   "metadata": {},
   "outputs": [],
   "source": [
    "# Question: What happens if you open a Pyspark (YARN) notebook? \n",
    "# Which is the difference in the Cluster manager interface at\n",
    "# Now the application is running on the hdfs and not in the local computer, \n",
    "# we can see this from the jobs tab that gives us information about the files running."
   ]
  }
 ],
 "metadata": {
  "kernelspec": {
   "display_name": "PySpark (Yarn)",
   "language": "python",
   "name": "pyspark_yarn"
  },
  "language_info": {
   "codemirror_mode": {
    "name": "ipython",
    "version": 3
   },
   "file_extension": ".py",
   "mimetype": "text/x-python",
   "name": "python",
   "nbconvert_exporter": "python",
   "pygments_lexer": "ipython3",
   "version": "3.7.5"
  }
 },
 "nbformat": 4,
 "nbformat_minor": 4
}
