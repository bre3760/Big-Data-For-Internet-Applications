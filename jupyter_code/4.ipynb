{
 "cells": [
  {
   "cell_type": "code",
   "execution_count": 41,
   "metadata": {},
   "outputs": [],
   "source": [
    "# Always considering /data/students/bigdata_internet/lab1/lab1_dataset.txt , \n",
    "# write a script that reads the file, and concatenates all values for a name, \n",
    "# separating them by : . Then, it saves the output in a HDFS file."
   ]
  },
  {
   "cell_type": "code",
   "execution_count": 42,
   "metadata": {},
   "outputs": [],
   "source": [
    "rdd = sc.textFile(\"/data/students/bigdata_internet/lab1/lab1_dataset.txt\")\n",
    "outputPath = \"lab1/ex4/\""
   ]
  },
  {
   "cell_type": "code",
   "execution_count": 43,
   "metadata": {},
   "outputs": [
    {
     "name": "stdout",
     "output_type": "stream",
     "text": [
      "alice,4\n"
     ]
    }
   ],
   "source": [
    "print(rdd.first())"
   ]
  },
  {
   "cell_type": "code",
   "execution_count": 44,
   "metadata": {},
   "outputs": [],
   "source": [
    "# define a function that given a line of the RDD as input return a tuple \n",
    "# of key value \n",
    "def createkvpair(line):\n",
    "    k,v = line.split(\",\")\n",
    "    #v = int(v)\n",
    "    return (k,v)"
   ]
  },
  {
   "cell_type": "code",
   "execution_count": 45,
   "metadata": {},
   "outputs": [],
   "source": [
    "# create an RDD of key value pairs by applying a map transformation and passing \n",
    "# the user defined function \n",
    "kv_rdd = rdd.map(createkvpair)"
   ]
  },
  {
   "cell_type": "code",
   "execution_count": 46,
   "metadata": {},
   "outputs": [
    {
     "name": "stdout",
     "output_type": "stream",
     "text": [
      "('alice', '4')\n"
     ]
    }
   ],
   "source": [
    "print(kv_rdd.first())"
   ]
  },
  {
   "cell_type": "code",
   "execution_count": 47,
   "metadata": {},
   "outputs": [],
   "source": [
    "# defining the function that will perform the concatenation of values for a given key \n",
    "# of the input (key,value) RDD \n",
    "def concatvalues(val1,val2):\n",
    "    return val1 + ':' + val2"
   ]
  },
  {
   "cell_type": "code",
   "execution_count": 48,
   "metadata": {},
   "outputs": [],
   "source": [
    "# apply the reduce by key transformation in order to \n",
    "# associate with each key of the input RDD one value \n",
    "# the function must be associative and commutative \n",
    "concat_rdd = kv_rdd.reduceByKey(concatvalues)"
   ]
  },
  {
   "cell_type": "code",
   "execution_count": 49,
   "metadata": {},
   "outputs": [
    {
     "name": "stdout",
     "output_type": "stream",
     "text": [
      "('bob', '5:3:3')\n"
     ]
    }
   ],
   "source": [
    "print(concat_rdd.first())"
   ]
  },
  {
   "cell_type": "code",
   "execution_count": null,
   "metadata": {},
   "outputs": [],
   "source": []
  }
 ],
 "metadata": {
  "kernelspec": {
   "display_name": "PySpark (Yarn)",
   "language": "python",
   "name": "pyspark_yarn"
  },
  "language_info": {
   "codemirror_mode": {
    "name": "ipython",
    "version": 3
   },
   "file_extension": ".py",
   "mimetype": "text/x-python",
   "name": "python",
   "nbconvert_exporter": "python",
   "pygments_lexer": "ipython3",
   "version": "3.7.5"
  }
 },
 "nbformat": 4,
 "nbformat_minor": 4
}
