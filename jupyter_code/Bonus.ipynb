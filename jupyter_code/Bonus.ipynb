{
 "cells": [
  {
   "cell_type": "code",
   "execution_count": 66,
   "metadata": {},
   "outputs": [],
   "source": [
    "# Bonus Task"
   ]
  },
  {
   "cell_type": "code",
   "execution_count": 67,
   "metadata": {},
   "outputs": [],
   "source": [
    "rdd = sc.textFile(\"/data/students/bigdata_internet/lab2/finefoods_text.txt\")"
   ]
  },
  {
   "cell_type": "code",
   "execution_count": 68,
   "metadata": {},
   "outputs": [
    {
     "name": "stdout",
     "output_type": "stream",
     "text": [
      "numer of objects in the input rdd:  568454\n"
     ]
    }
   ],
   "source": [
    "print('numer of objects in the input rdd: ',rdd.count())"
   ]
  },
  {
   "cell_type": "code",
   "execution_count": 69,
   "metadata": {},
   "outputs": [
    {
     "name": "stdout",
     "output_type": "stream",
     "text": [
      "Some of the objects in the input rdd:  [' I have bought several of the Vitality canned dog food products and have found them all to be of good quality  The product looks more like a stew than a processed meat and it smells better  My Labrador is finicky and she appreciates this product better than  most ', ' Product arrived labeled as Jumbo Salted Peanuts   the peanuts were actually small sized unsalted  Not sure if this was an error or if the vendor intended to represent the product as \"Jumbo\" ']\n"
     ]
    }
   ],
   "source": [
    "print('Some of the objects in the input rdd: ',rdd.take(2))"
   ]
  },
  {
   "cell_type": "code",
   "execution_count": 70,
   "metadata": {},
   "outputs": [],
   "source": [
    "# function that takes a paragraph and gives back a list of single words\n",
    "def getwords(paragraph):\n",
    "    words = []\n",
    "    excludables = [\"\",\" \",\"-\",\"--\",\"/\"]\n",
    "    for word in paragraph.split(\" \"):\n",
    "        if word in excludables:\n",
    "            continue\n",
    "        words.append(word)\n",
    "    return words"
   ]
  },
  {
   "cell_type": "code",
   "execution_count": 71,
   "metadata": {},
   "outputs": [],
   "source": [
    "# Using flatMap since the final result is the concatenation of the list of values obtained\n",
    "# by applying the function f (getwords) over all the elements of the input rdd\n",
    "words_rdd = rdd.flatMap(getwords)"
   ]
  },
  {
   "cell_type": "code",
   "execution_count": 72,
   "metadata": {},
   "outputs": [
    {
     "name": "stdout",
     "output_type": "stream",
     "text": [
      "Some of the elements in the words_rdd after the flatMap operation:  ['I', 'have', 'bought', 'several', 'of', 'the', 'Vitality', 'canned', 'dog', 'food', 'products', 'and', 'have', 'found', 'them', 'all', 'to', 'be', 'of', 'good', 'quality', 'The', 'product', 'looks', 'more', 'like', 'a', 'stew', 'than', 'a', 'processed', 'meat', 'and', 'it', 'smells', 'better', 'My', 'Labrador', 'is', 'finicky', 'and', 'she', 'appreciates', 'this', 'product', 'better', 'than', 'most', 'Product', 'arrived', 'labeled', 'as', 'Jumbo', 'Salted', 'Peanuts', 'the', 'peanuts', 'were', 'actually', 'small']\n"
     ]
    }
   ],
   "source": [
    "print('Some of the elements in the words_rdd after the flatMap operation: ',words_rdd.take(60))"
   ]
  },
  {
   "cell_type": "code",
   "execution_count": 73,
   "metadata": {},
   "outputs": [
    {
     "name": "stdout",
     "output_type": "stream",
     "text": [
      "Total number of words in original file:  45347537\n"
     ]
    }
   ],
   "source": [
    "print('Total number of words in original file: ',words_rdd.count())"
   ]
  },
  {
   "cell_type": "code",
   "execution_count": 74,
   "metadata": {},
   "outputs": [],
   "source": [
    "# Can you write the code to obtain the word frequency file starting from the original file? \n",
    "# Compare the number of words in the file you created and the ones in the word frequency file"
   ]
  },
  {
   "cell_type": "code",
   "execution_count": 75,
   "metadata": {},
   "outputs": [],
   "source": [
    "# function to create key, value pairs in order to then be able to apply the refuceByKey operation\n",
    "def create_kv_pairs(word):\n",
    "    return (word,1)"
   ]
  },
  {
   "cell_type": "code",
   "execution_count": 76,
   "metadata": {},
   "outputs": [],
   "source": [
    "kv_words = words_rdd.map(create_kv_pairs)"
   ]
  },
  {
   "cell_type": "code",
   "execution_count": 77,
   "metadata": {},
   "outputs": [
    {
     "name": "stdout",
     "output_type": "stream",
     "text": [
      "Some elements of the kv_rdd after being associated word,value:  [('I', 1), ('have', 1), ('bought', 1), ('several', 1), ('of', 1), ('the', 1), ('Vitality', 1)]\n"
     ]
    }
   ],
   "source": [
    "print('Some elements of the kv_rdd after being associated word,value: ',kv_words.take(7))"
   ]
  },
  {
   "cell_type": "code",
   "execution_count": 78,
   "metadata": {},
   "outputs": [],
   "source": [
    "# Applying the reduceByKey operation in order to count the total occurances of each word \n",
    "word_freq_rdd = kv_words.reduceByKey(lambda accum,n:accum+n)"
   ]
  },
  {
   "cell_type": "code",
   "execution_count": 79,
   "metadata": {},
   "outputs": [
    {
     "name": "stdout",
     "output_type": "stream",
     "text": [
      "Some of the words and their frequencies:  [('like', 244250), ('private', 237), ('reserve', 217), ('ghost', 292), ('2010', 878), ('is', 725903), ('stocked', 1115), ('hot', 32944)]\n"
     ]
    }
   ],
   "source": [
    "print('Some of the words and their frequencies: ',word_freq_rdd.take(8))"
   ]
  },
  {
   "cell_type": "code",
   "execution_count": 80,
   "metadata": {},
   "outputs": [
    {
     "name": "stdout",
     "output_type": "stream",
     "text": [
      "Total number of words in the final rdd:  339817\n"
     ]
    }
   ],
   "source": [
    "print('Total number of words in the final rdd: ',word_freq_rdd.count())"
   ]
  },
  {
   "cell_type": "code",
   "execution_count": null,
   "metadata": {},
   "outputs": [],
   "source": [
    "# Compared to the given file that has 339819 words the result is very close. "
   ]
  }
 ],
 "metadata": {
  "kernelspec": {
   "display_name": "PySpark (Yarn)",
   "language": "python",
   "name": "pyspark_yarn"
  },
  "language_info": {
   "codemirror_mode": {
    "name": "ipython",
    "version": 3
   },
   "file_extension": ".py",
   "mimetype": "text/x-python",
   "name": "python",
   "nbconvert_exporter": "python",
   "pygments_lexer": "ipython3",
   "version": "3.7.5"
  }
 },
 "nbformat": 4,
 "nbformat_minor": 4
}
