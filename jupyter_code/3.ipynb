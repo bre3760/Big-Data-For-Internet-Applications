{
 "cells": [
  {
   "cell_type": "code",
   "execution_count": 13,
   "metadata": {},
   "outputs": [],
   "source": [
    "rdd = sc.textFile(\"/data/students/bigdata_internet/lab1/lab1_dataset.txt\")\n",
    "outputPath = \"lab1/ex3/\" \n",
    "# Defining the input file with which to create the RDD to work with\n",
    "# Defining the output path where to save the file "
   ]
  },
  {
   "cell_type": "code",
   "execution_count": 14,
   "metadata": {},
   "outputs": [],
   "source": [
    "#fields_rdd = rdd.map(lambda line: line.split(\",\"))"
   ]
  },
  {
   "cell_type": "code",
   "execution_count": 15,
   "metadata": {},
   "outputs": [],
   "source": [
    "#print(fields_rdd.first())\n",
    "# ['alice', '4']"
   ]
  },
  {
   "cell_type": "code",
   "execution_count": 16,
   "metadata": {},
   "outputs": [],
   "source": [
    "#name_total_rdd = fields_rdd.reduceByKey(lambda accum,n:accum+n)"
   ]
  },
  {
   "cell_type": "code",
   "execution_count": 17,
   "metadata": {},
   "outputs": [],
   "source": [
    "#print(name_total_rdd.first())\n",
    "# ('bob', '533')"
   ]
  },
  {
   "cell_type": "code",
   "execution_count": 23,
   "metadata": {},
   "outputs": [],
   "source": [
    "# Function to pass to the map transformation in order to obtain a tuple of (string,int)\n",
    "def fromnamevaltotuplevalint(line):\n",
    "    k,v = line.split(\",\")\n",
    "    return (k,int(v))"
   ]
  },
  {
   "cell_type": "code",
   "execution_count": 24,
   "metadata": {},
   "outputs": [],
   "source": [
    "#tuples_rdd = rdd.map(lambda line: tuple(line.split(\",\")))\n",
    "# applying the map funcion and passing the previously defined function to create a new RDD\n",
    "# that will contain the key, value pairs needed for the reduce operation\n",
    "tuples_rdd = rdd.map(fromnamevaltotuplevalint)"
   ]
  },
  {
   "cell_type": "code",
   "execution_count": 25,
   "metadata": {},
   "outputs": [],
   "source": [
    "# print(tuples_rdd.first())\n",
    "# ('alice', 4)"
   ]
  },
  {
   "cell_type": "code",
   "execution_count": 26,
   "metadata": {},
   "outputs": [],
   "source": [
    "# applying the reduce by key operation in order to obtain as output \n",
    "# an RDD of pairs containing one pair for each key of the input RDD\n",
    "name_total_rdd = tuples_rdd.reduceByKey(lambda accum,n:accum+n)"
   ]
  },
  {
   "cell_type": "code",
   "execution_count": 27,
   "metadata": {},
   "outputs": [
    {
     "name": "stdout",
     "output_type": "stream",
     "text": [
      "('bob', 11)\n"
     ]
    }
   ],
   "source": [
    "print(name_total_rdd.first())\n",
    "# ('bob', 11)"
   ]
  },
  {
   "cell_type": "code",
   "execution_count": null,
   "metadata": {},
   "outputs": [],
   "source": [
    "# saving the RDD to a text file \n",
    "#name_total_rdd.saveAsTextFile(outputPath)"
   ]
  }
 ],
 "metadata": {
  "kernelspec": {
   "display_name": "PySpark (Yarn)",
   "language": "python",
   "name": "pyspark_yarn"
  },
  "language_info": {
   "codemirror_mode": {
    "name": "ipython",
    "version": 3
   },
   "file_extension": ".py",
   "mimetype": "text/x-python",
   "name": "python",
   "nbconvert_exporter": "python",
   "pygments_lexer": "ipython3",
   "version": "3.7.5"
  }
 },
 "nbformat": 4,
 "nbformat_minor": 4
}
